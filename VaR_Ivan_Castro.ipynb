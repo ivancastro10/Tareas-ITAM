{
 "cells": [
  {
   "cell_type": "markdown",
   "metadata": {},
   "source": [
    "# Erick Iván Castro Granados\n",
    "\n",
    "# Cálculo de VaR \n",
    "\n",
    "# ITAM"
   ]
  },
  {
   "cell_type": "code",
   "execution_count": null,
   "metadata": {},
   "outputs": [],
   "source": [
    "import pandas as pd\n",
    "import numpy as np\n",
    "import matplotlib.pyplot as plt\n",
    "import seaborn as sns\n",
    "from numpy.random import randn, seed\n",
    "from scipy.optimize import minimize\n",
    "from scipy.stats import norm"
   ]
  },
  {
   "cell_type": "code",
   "execution_count": 34,
   "metadata": {},
   "outputs": [],
   "source": [
    "### Datos iniciales \n",
    "\n",
    "monto = 10000000\n",
    "nivelc1 = .95\n",
    "nivelc2 = .99\n",
    "cuantil1 = norm.ppf(nivelc1)\n",
    "cuantil2 = norm.ppf(nivelc2)"
   ]
  },
  {
   "cell_type": "code",
   "execution_count": 6,
   "metadata": {},
   "outputs": [
    {
     "data": {
      "text/plain": [
       "ASURB MF Equity       0.123539\n",
       "GFNORTEO MF Equity    0.078811\n",
       "PE&OLES* MF Equity    0.111053\n",
       "WALMEX* MF Equity     0.082426\n",
       "IENOVA* MF Equity     0.078997\n",
       "dtype: float64"
      ]
     },
     "execution_count": 6,
     "metadata": {},
     "output_type": "execute_result"
    }
   ],
   "source": [
    "port_path = \"PreciosPortf.xlsx\"\n",
    "data = pd.read_excel(port_path, index_col=0)\n",
    "\n",
    "#base\n",
    "rend = data.pct_change().dropna()\n",
    "\n",
    "#rendimiento anualizado\n",
    "rend_ports = rend.mean() * 252\n",
    "rend_ports"
   ]
  },
  {
   "cell_type": "code",
   "execution_count": 89,
   "metadata": {},
   "outputs": [
    {
     "data": {
      "text/html": [
       "<div>\n",
       "<style scoped>\n",
       "    .dataframe tbody tr th:only-of-type {\n",
       "        vertical-align: middle;\n",
       "    }\n",
       "\n",
       "    .dataframe tbody tr th {\n",
       "        vertical-align: top;\n",
       "    }\n",
       "\n",
       "    .dataframe thead th {\n",
       "        text-align: right;\n",
       "    }\n",
       "</style>\n",
       "<table border=\"1\" class=\"dataframe\">\n",
       "  <thead>\n",
       "    <tr style=\"text-align: right;\">\n",
       "      <th></th>\n",
       "      <th>ASURB MF Equity</th>\n",
       "      <th>GFNORTEO MF Equity</th>\n",
       "      <th>PE&amp;OLES* MF Equity</th>\n",
       "      <th>WALMEX* MF Equity</th>\n",
       "      <th>IENOVA* MF Equity</th>\n",
       "    </tr>\n",
       "  </thead>\n",
       "  <tbody>\n",
       "    <tr>\n",
       "      <th>ASURB MF Equity</th>\n",
       "      <td>0.000224</td>\n",
       "      <td>0.000086</td>\n",
       "      <td>0.000061</td>\n",
       "      <td>0.000036</td>\n",
       "      <td>0.000044</td>\n",
       "    </tr>\n",
       "    <tr>\n",
       "      <th>GFNORTEO MF Equity</th>\n",
       "      <td>0.000086</td>\n",
       "      <td>0.000341</td>\n",
       "      <td>0.000094</td>\n",
       "      <td>0.000082</td>\n",
       "      <td>0.000082</td>\n",
       "    </tr>\n",
       "    <tr>\n",
       "      <th>PE&amp;OLES* MF Equity</th>\n",
       "      <td>0.000061</td>\n",
       "      <td>0.000094</td>\n",
       "      <td>0.000548</td>\n",
       "      <td>0.000041</td>\n",
       "      <td>0.000045</td>\n",
       "    </tr>\n",
       "    <tr>\n",
       "      <th>WALMEX* MF Equity</th>\n",
       "      <td>0.000036</td>\n",
       "      <td>0.000082</td>\n",
       "      <td>0.000041</td>\n",
       "      <td>0.000215</td>\n",
       "      <td>0.000043</td>\n",
       "    </tr>\n",
       "    <tr>\n",
       "      <th>IENOVA* MF Equity</th>\n",
       "      <td>0.000044</td>\n",
       "      <td>0.000082</td>\n",
       "      <td>0.000045</td>\n",
       "      <td>0.000043</td>\n",
       "      <td>0.000226</td>\n",
       "    </tr>\n",
       "  </tbody>\n",
       "</table>\n",
       "</div>"
      ],
      "text/plain": [
       "                    ASURB MF Equity  GFNORTEO MF Equity  PE&OLES* MF Equity  \\\n",
       "ASURB MF Equity            0.000224            0.000086            0.000061   \n",
       "GFNORTEO MF Equity         0.000086            0.000341            0.000094   \n",
       "PE&OLES* MF Equity         0.000061            0.000094            0.000548   \n",
       "WALMEX* MF Equity          0.000036            0.000082            0.000041   \n",
       "IENOVA* MF Equity          0.000044            0.000082            0.000045   \n",
       "\n",
       "                    WALMEX* MF Equity  IENOVA* MF Equity  \n",
       "ASURB MF Equity              0.000036           0.000044  \n",
       "GFNORTEO MF Equity           0.000082           0.000082  \n",
       "PE&OLES* MF Equity           0.000041           0.000045  \n",
       "WALMEX* MF Equity            0.000215           0.000043  \n",
       "IENOVA* MF Equity            0.000043           0.000226  "
      ]
     },
     "execution_count": 89,
     "metadata": {},
     "output_type": "execute_result"
    }
   ],
   "source": [
    "## Matriz varianzas- covarianzas\n",
    "var_cov = rend.cov()\n",
    "var_cov"
   ]
  },
  {
   "cell_type": "code",
   "execution_count": 10,
   "metadata": {},
   "outputs": [],
   "source": [
    "def port_rend(weights, r):\n",
    "    E_p = (r.mean() @ weights) * 252\n",
    "    return E_p\n",
    "\n",
    "def port_vol(weights, r):\n",
    "    S_p = np.sqrt(weights.T @ (r.cov() * 252) @ weights)\n",
    "    return S_p"
   ]
  },
  {
   "cell_type": "code",
   "execution_count": 11,
   "metadata": {},
   "outputs": [
    {
     "data": {
      "text/plain": [
       "     fun: 0.15715162621795464\n",
       "     jac: array([0.17775704, 0.13851267, 0.16664604, 0.14176532, 0.13885481])\n",
       " message: 'Optimization terminated successfully.'\n",
       "    nfev: 70\n",
       "     nit: 10\n",
       "    njev: 10\n",
       "  status: 0\n",
       " success: True\n",
       "       x: array([0.37295029, 0.00650116, 0.10717024, 0.2790069 , 0.23437141])"
      ]
     },
     "execution_count": 11,
     "metadata": {},
     "output_type": "execute_result"
    }
   ],
   "source": [
    "N, M = rend.shape\n",
    "w0  = np.random.randn(M)\n",
    "\n",
    "def sum_weights(weights):\n",
    "    return weights.sum() - 1 # == 0\n",
    "\n",
    "def rend_esperado(w, E):\n",
    "    return port_rend(w, rend) - E # == 0\n",
    "\n",
    "e0 = 0.1\n",
    "constraints = [\n",
    "    {\"type\": \"eq\", \"fun\": sum_weights},\n",
    "    {\"type\": \"eq\", \"fun\": lambda w: rend_esperado(w, e0)}\n",
    "]\n",
    "\n",
    "port1 = minimize(port_vol, w0, constraints=constraints, args=rend)\n",
    "port1"
   ]
  },
  {
   "cell_type": "code",
   "execution_count": 12,
   "metadata": {},
   "outputs": [
    {
     "data": {
      "text/plain": [
       "(0.09999999999750425, 0.15715162621795464)"
      ]
     },
     "execution_count": 12,
     "metadata": {},
     "output_type": "execute_result"
    }
   ],
   "source": [
    "wp1 = port1.x\n",
    "port_rend(wp1, rend), port_vol(wp1, rend)"
   ]
  },
  {
   "cell_type": "code",
   "execution_count": 13,
   "metadata": {},
   "outputs": [],
   "source": [
    "### Sacamos los pesos que minimicen el coeficiente de Sharpe\n",
    "rf = 0.06\n",
    "\n",
    "def min_func_sharpe(weights):\n",
    "    return - (port_rend(weights, rend) - rf) / port_vol(weights, rend)\n",
    "\n",
    "constraints = [\n",
    "    {\"type\": \"eq\", \"fun\": sum_weights}\n",
    "]\n",
    "\n",
    "f_sharpe = minimize(min_func_sharpe, w0, constraints=constraints)"
   ]
  },
  {
   "cell_type": "code",
   "execution_count": 14,
   "metadata": {},
   "outputs": [
    {
     "data": {
      "text/plain": [
       "array([ 0.73086632, -0.13937858,  0.17629872,  0.16409262,  0.06812092])"
      ]
     },
     "execution_count": 14,
     "metadata": {},
     "output_type": "execute_result"
    }
   ],
   "source": [
    "### Pesos usados para calcular el VaR\n",
    "w_sharpe = f_sharpe.x\n",
    "w_sharpe"
   ]
  },
  {
   "cell_type": "code",
   "execution_count": 33,
   "metadata": {},
   "outputs": [],
   "source": [
    "### Calculamos la varianza y desv estandar del portafolio\n",
    "varp_diaria = w_sharpe @ (var_cov @ w_sharpe)\n",
    "desvp_diaria = np.sqrt(varp_diaria)\n",
    "desvp_anual = desvp_diaria * np.sqrt(252)\n",
    "varp_anual = desvp_anual ** 2"
   ]
  },
  {
   "cell_type": "code",
   "execution_count": 38,
   "metadata": {},
   "outputs": [],
   "source": [
    "### Calculamos el VaR \n",
    "VaR_95_anual = monto * cuantil1 * desvp_anual\n",
    "VaR_99_anual = monto * cuantil2 * desvp_anual\n",
    "VaR_95_diario = monto * cuantil1 * desvp_diaria\n",
    "VaR_99_diario = monto * cuantil2 * desvp_diaria"
   ]
  },
  {
   "cell_type": "code",
   "execution_count": 98,
   "metadata": {},
   "outputs": [],
   "source": [
    "## Calculamos el efecto de la diversificación \n",
    "vector_pos = w_sharpe * monto\n",
    "vold_acc = np.sqrt(np.diagonal(var_cov))\n",
    "vola_acc = vold_acc * np.sqrt(252)"
   ]
  },
  {
   "cell_type": "code",
   "execution_count": 103,
   "metadata": {},
   "outputs": [],
   "source": [
    "### Suma del VaR diario y anual de cada una de las acciones\n",
    "\n",
    "VaR_indiv_d_95 = np.sum(vector_pos * vold_acc * cuantil1)\n",
    "VaR_indiv_a_95 = np.sum(vector_pos * vola_acc * cuantil1)\n",
    "\n",
    "VaR_indiv_d_99 = np.sum(vector_pos * vold_acc * cuantil2)\n",
    "VaR_indiv_a_99 = np.sum(vector_pos * vola_acc * cuantil2)"
   ]
  },
  {
   "cell_type": "code",
   "execution_count": 104,
   "metadata": {},
   "outputs": [],
   "source": [
    "efecto_a_95 = VaR_indiv_a_95 - VaR_95_anual\n",
    "efecto_a_99 = VaR_indiv_a_99 - VaR_99_anual\n",
    "\n",
    "efecto_d_95 = VaR_indiv_d_95 - VaR_95_diario\n",
    "efecto_d_99 = VaR_indiv_d_99 - VaR_99_diario"
   ]
  },
  {
   "cell_type": "markdown",
   "metadata": {},
   "source": [
    "# Resultados:"
   ]
  },
  {
   "cell_type": "code",
   "execution_count": 108,
   "metadata": {},
   "outputs": [
    {
     "name": "stdout",
     "output_type": "stream",
     "text": [
      "El valor del VaR anual al 95% de confianza es: $ 3257080.84\n",
      "El valor del VaR anual al 99% de confianza es: $ 4606551.59\n",
      "El valor del VaR diario al 95% de confianza es: $ 205176.81\n",
      "El valor del VaR diario al 99% de confianza es: $ 290185.47\n"
     ]
    }
   ],
   "source": [
    "print(f\"El valor del VaR anual al 95% de confianza es: $ {VaR_95_anual:.2f}\")\n",
    "print(f\"El valor del VaR anual al 99% de confianza es: $ {VaR_99_anual:.2f}\")\n",
    "\n",
    "print(f\"El valor del VaR diario al 95% de confianza es: $ {VaR_95_diario:.2f}\")\n",
    "print(f\"El valor del VaR diario al 99% de confianza es: $ {VaR_99_diario:.2f}\")"
   ]
  },
  {
   "cell_type": "code",
   "execution_count": 109,
   "metadata": {},
   "outputs": [
    {
     "name": "stdout",
     "output_type": "stream",
     "text": [
      "El efecto de la diversificación anual al 95% de confianza es: $ 898484.58\n",
      "El efecto de la diversificación anual al 99% de confianza es: $ 1270743.89\n",
      "El efecto de la diversificación diario al 95% de confianza es: $ 56599.21\n",
      "El efecto de la diversificación diario al 99% de confianza es: $ 80049.34\n"
     ]
    }
   ],
   "source": [
    "print(f\"El efecto de la diversificación anual al 95% de confianza es: $ {efecto_a_95:.2f}\")\n",
    "print(f\"El efecto de la diversificación anual al 99% de confianza es: $ {efecto_a_99:.2f}\")\n",
    "print(f\"El efecto de la diversificación diario al 95% de confianza es: $ {efecto_d_95:.2f}\")\n",
    "print(f\"El efecto de la diversificación diario al 99% de confianza es: $ {efecto_d_99:.2f}\")"
   ]
  }
 ],
 "metadata": {
  "kernelspec": {
   "display_name": "Python 3",
   "language": "python",
   "name": "python3"
  },
  "language_info": {
   "codemirror_mode": {
    "name": "ipython",
    "version": 3
   },
   "file_extension": ".py",
   "mimetype": "text/x-python",
   "name": "python",
   "nbconvert_exporter": "python",
   "pygments_lexer": "ipython3",
   "version": "3.7.3"
  }
 },
 "nbformat": 4,
 "nbformat_minor": 2
}
