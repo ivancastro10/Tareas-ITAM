{
 "cells": [
  {
   "cell_type": "markdown",
   "metadata": {},
   "source": [
    "## Erick Iván Castro Granados \n",
    "\n",
    "## ITAM \n",
    "\n",
    "## Tarea PCA"
   ]
  },
  {
   "cell_type": "code",
   "execution_count": 1,
   "metadata": {},
   "outputs": [],
   "source": [
    "import numpy as np\n",
    "from numpy.linalg import svd\n",
    "from sklearn.decomposition import PCA\n",
    "from tensorflow.keras import datasets\n",
    "import matplotlib.pyplot as plt\n",
    "from sklearn.neighbors import KNeighborsClassifier\n",
    "from sklearn.pipeline import Pipeline\n",
    "from sklearn.model_selection import cross_validate"
   ]
  },
  {
   "cell_type": "code",
   "execution_count": 2,
   "metadata": {},
   "outputs": [
    {
     "data": {
      "image/png": "[encoded data removed]",
      "text/plain": [
       "<Figure size 432x288 with 4 Axes>"
      ]
     },
     "metadata": {
      "needs_background": "light"
     },
     "output_type": "display_data"
    }
   ],
   "source": [
    "train, test = datasets.mnist.load_data()\n",
    "xtrain, ytrain = train\n",
    "\n",
    "np.random.seed(3141)\n",
    "indices = np.random.choice(np.arange(len(xtrain)), size=4)\n",
    "fig, ax = plt.subplots(2, 2)\n",
    "for axi, ix in zip(ax.ravel(), indices):\n",
    "    axi.imshow(xtrain[ix])\n",
    "    axi.axis(\"off\")"
   ]
  },
  {
   "cell_type": "code",
   "execution_count": 8,
   "metadata": {},
   "outputs": [
    {
     "data": {
      "text/plain": [
       "array([5, 0, 4, ..., 5, 6, 8], dtype=uint8)"
      ]
     },
     "execution_count": 8,
     "metadata": {},
     "output_type": "execute_result"
    }
   ],
   "source": [
    "ytrain"
   ]
  },
  {
   "cell_type": "code",
   "execution_count": 11,
   "metadata": {},
   "outputs": [
    {
     "name": "stdout",
     "output_type": "stream",
     "text": [
      "Wall time: 2.82 s\n"
     ]
    }
   ],
   "source": [
    "%%time\n",
    "N, M1, M2 = xtrain.shape\n",
    "X = xtrain.reshape(N, -1)[:int(N * 0.5)]\n",
    "y = ytrain[:int(N * 0.5)]\n",
    "mu = X.mean(axis=0, keepdims=True)\n",
    "X = X - mu\n",
    "U, Sigma, Vt = svd(X, full_matrices=False)"
   ]
  },
  {
   "cell_type": "markdown",
   "metadata": {},
   "source": [
    "## Considerando xtrain, ytrain definido en las céldas de arriba, crea dos modelos:\n",
    "1- Un pipeline considerando PCA con n_components=0.7, seguido de un modelo KNeighborsClassifier con n_neighbors=5 \n",
    "\n",
    "2- KNeighborsClassifier con n_neighbors=5\n"
   ]
  },
  {
   "cell_type": "code",
   "execution_count": 12,
   "metadata": {},
   "outputs": [],
   "source": [
    "modelo1 = Pipeline([\n",
    "    (\"PCA\", PCA(n_components=0.7)),\n",
    "    (\"KNC\", KNeighborsClassifier(n_neighbors=5))\n",
    "])\n",
    "\n",
    "modelo2 = KNeighborsClassifier(n_neighbors=5)"
   ]
  },
  {
   "cell_type": "code",
   "execution_count": 15,
   "metadata": {},
   "outputs": [
    {
     "data": {
      "text/plain": [
       "Pipeline(memory=None,\n",
       "         steps=[('PCA',\n",
       "                 PCA(copy=True, iterated_power='auto', n_components=0.7,\n",
       "                     random_state=None, svd_solver='auto', tol=0.0,\n",
       "                     whiten=False)),\n",
       "                ('KNC',\n",
       "                 KNeighborsClassifier(algorithm='auto', leaf_size=30,\n",
       "                                      metric='minkowski', metric_params=None,\n",
       "                                      n_jobs=None, n_neighbors=5, p=2,\n",
       "                                      weights='uniform'))],\n",
       "         verbose=False)"
      ]
     },
     "execution_count": 15,
     "metadata": {},
     "output_type": "execute_result"
    }
   ],
   "source": [
    "ajuste1 = modelo1.fit(xtrain.reshape(N, -1),ytrain)\n",
    "ajuste1"
   ]
  },
  {
   "cell_type": "code",
   "execution_count": 16,
   "metadata": {},
   "outputs": [
    {
     "data": {
      "text/plain": [
       "KNeighborsClassifier(algorithm='auto', leaf_size=30, metric='minkowski',\n",
       "                     metric_params=None, n_jobs=None, n_neighbors=5, p=2,\n",
       "                     weights='uniform')"
      ]
     },
     "execution_count": 16,
     "metadata": {},
     "output_type": "execute_result"
    }
   ],
   "source": [
    "ajuste2 = modelo2.fit(xtrain.reshape(N, -1),ytrain)\n",
    "ajuste2"
   ]
  },
  {
   "cell_type": "markdown",
   "metadata": {},
   "source": [
    "## Realiza un cross validation con cv=3.\n",
    "¿Qué resultados arroja cada modelo?\n",
    "\n",
    "¿Qué ventajas tiene cada modelo?\n",
    "\n",
    "¿Cuánto tarda en correr cada cross-validation?"
   ]
  },
  {
   "cell_type": "code",
   "execution_count": 17,
   "metadata": {},
   "outputs": [
    {
     "name": "stdout",
     "output_type": "stream",
     "text": [
      "Wall time: 2min 11s\n"
     ]
    }
   ],
   "source": [
    "%%time\n",
    "cv = cross_validate(modelo1, xtrain.reshape(N, -1), ytrain, cv=3)"
   ]
  },
  {
   "cell_type": "code",
   "execution_count": null,
   "metadata": {},
   "outputs": [],
   "source": [
    "%%time\n",
    "cv2 = cross_validate(modelo2, xtrain.reshape(N, -1), ytrain, cv=3)\n",
    "score2 = cv[\"test_score\"]"
   ]
  },
  {
   "cell_type": "code",
   "execution_count": 19,
   "metadata": {},
   "outputs": [
    {
     "name": "stdout",
     "output_type": "stream",
     "text": [
      "El score para el modelo 1 es: 97.00%\n"
     ]
    }
   ],
   "source": [
    "score1 = cv[\"test_score\"]\n",
    "print(f\"El score para el modelo 1 es: {round(100*score1.mean()):0.2f}%\")"
   ]
  },
  {
   "cell_type": "code",
   "execution_count": null,
   "metadata": {},
   "outputs": [],
   "source": [
    "print(f\"El score para el modelo 2 es: {round(100*score2.mean()):0.2f}%\")"
   ]
  },
  {
   "cell_type": "markdown",
   "metadata": {},
   "source": [
    "Una de las desventajas más grandes del model que solo tiene KNeighborsClassifier, es que tarda demasiado en correr. \n",
    "Para hacer la prueba de Cross Validate se ha tardado demasiado. \n",
    "\n",
    "Para el pipeline que incluso PCA y KNeighborsClassifier, aunque también tardó un poco en arrojar un resultado, no se compara a lo mucho que tardó el otro. Aparte con un test score de 97% que lo hace más que aceptable. \n",
    "\n",
    "El primero model tardó 2 minutos 11 segundo en hacer la prueba de CV. \n",
    "El segundo modelo tardó demasiado, llevaba mas de 30 minutos y tuve que pararlo. "
   ]
  },
  {
   "cell_type": "markdown",
   "metadata": {},
   "source": [
    "## Demostración "
   ]
  },
  {
   "cell_type": "markdown",
   "metadata": {},
   "source": [
    "La idea es demostrar que AdaBoost.M1 es equivalente a un modelo aditivo progresivo por etapas, usando la función de perdida \n",
    "$$\n",
    "L(y,f(x))=\\exp(-yf(x))\n",
    "$$\n",
    "Para Adaboost, las funciones base son clasificadores individuales tales que $G_m(x)\\in \\{-1,1\\}$. Usando la función de perdida anterior, tenemos que resolver: \n",
    "$$\n",
    "(\\beta_m,G_m)=argmin_{\\beta,G} \\sum_{i=1}^{N}\\exp[-y_i(f_{m-1}(x_i)+\\beta G(x_i))]\n",
    "$$\n",
    "para la función de clasificación $G_m$ y su coeficiente correspondiente $\\beta_m$, aditivos para cada paso. La formula anterior se puede expresar se la siguiente manera:\n",
    "$$\n",
    "(\\beta_m,G_m)=argmin_{\\beta,G} \\sum_{i=1}^{N}w_i^{(m)}\\exp(-\\beta y_i G(x_i))  \n",
    "$$\n",
    "con $w_i^{(m)}=\\exp(-y_i f_{m-1}(x_i))$. Como cada $w_i^{(m)}$ no depende ni de $\\beta$ ni de $G(x)$, puede ser considerado como un peso que es aplicado a cada observación. Estos pesos dependen de $f_{m-1}(x_i)$, y su valor cambia con cada iteración $m$.\n",
    "\n",
    "La solución para la expresión anterior se puede obtener en dos pasos. El primero, para todo valor de $\\beta > 0$, la solución a la expresión para $G_m(x)$ es: \n",
    "$$\n",
    "G_m = argmin_G \\sum_{i=1}^N w_i^{(m)} I(y_i\\neq G(x_i))\n",
    "$$\n",
    "que es la función de clasificación que minimiza la tasa de error ponderada a la hora de predecir y. Esto se puede notar mostrando la expresión para $(\\beta_m,G_m)$ de la siguiente manera:\n",
    "$$\n",
    "e^{-\\beta}\\sum_{y_i=G(xi)}w_i^{(m)} + e^{\\beta}\\sum_{y_i\\neq G(xi)}w_i^{(m)}\n",
    "$$\n",
    "que a su vez puede ser escrito como: \n",
    "$$\n",
    "(e^\\beta - e^{-\\beta})\\sum_{i=1}^N w_i^{(m)}I(y_i\\neq G(x_i)) + e^{-\\beta}\\sum_{i=1}^N w_i^{(m)}\n",
    "$$\n",
    "Reemplazando $G_m$ en la expresión para $(\\beta_m,G_m)$ y despejando $\\beta$ obtenemos: \n",
    "$$\n",
    "\\beta_m = \\frac{1}{2}\\log\\frac{1-err_m}{err_m}\n",
    "$$\n",
    "donde $err_m$ es la tasa minima de error ponderada\n",
    "$$\n",
    "err_m = \\frac{\\sum_{i=1}^N w_i^{(m)}I(y_i\\neq G_m(x_i))}{\\sum_{i=1}^N w_i^{(m)}}\n",
    "$$\n",
    "La función de aproximación es actualizada \n",
    "$$\n",
    "f_m(x)=f_{m-1}(x)+\\beta_m G_m(x)\n",
    "$$\n",
    "que ocasiona que los pesos para la siguiente iteración sean: \n",
    "$$\n",
    "w_i^{m+1}=w_i^{m}e^{-\\beta_my_iG_m(x_i)}\n",
    "$$\n",
    "Usando el hecho de que $-y_iG_m(x_i) = 2I(y_i\\neq G_m(x_i))-1$, los pesos terminan siendo:\n",
    "$$\n",
    "w_i^{m+1}=w_i^{m}e^{\\alpha_mI(y_i\\neq G_m(x_i))}e^{-\\beta_m}\n",
    "$$\n",
    "donde $\\alpha_m = 2\\beta_m$ es una cantidad definida en el algoritmo de Adaboost.M1. El factor $e^{-\\beta_m}$ que multiplica a todos los pesos por el mismo valor, hace que se neutralice su efecto. Por lo tanto eso lo hace equivalente al algoritmo de un modelo aditivo progresivo."
   ]
  },
  {
   "cell_type": "code",
   "execution_count": null,
   "metadata": {},
   "outputs": [],
   "source": []
  }
 ],
 "metadata": {
  "kernelspec": {
   "display_name": "Python 3",
   "language": "python",
   "name": "python3"
  },
  "language_info": {
   "codemirror_mode": {
    "name": "ipython",
    "version": 3
   },
   "file_extension": ".py",
   "mimetype": "text/x-python",
   "name": "python",
   "nbconvert_exporter": "python",
   "pygments_lexer": "ipython3",
   "version": "3.7.3"
  }
 },
 "nbformat": 4,
 "nbformat_minor": 2
}
