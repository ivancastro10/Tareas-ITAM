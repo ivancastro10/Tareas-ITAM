{
 "cells": [
  {
   "cell_type": "markdown",
   "metadata": {},
   "source": [
    "# Examen final \n",
    "\n",
    "## módulo 5 \n",
    "\n",
    "## Erick Iván Castro Granados"
   ]
  },
  {
   "cell_type": "code",
   "execution_count": 1,
   "metadata": {},
   "outputs": [],
   "source": [
    "import numpy as np\n",
    "import pandas as pd\n",
    "import matplotlib.pyplot as plt\n",
    "import seaborn as sns\n",
    "from numpy.random import randn, seed\n",
    "from scipy.optimize import minimize"
   ]
  },
  {
   "cell_type": "code",
   "execution_count": 4,
   "metadata": {},
   "outputs": [],
   "source": [
    "%config InlineBackend.figure_format = \"retina\""
   ]
  },
  {
   "cell_type": "code",
   "execution_count": 7,
   "metadata": {},
   "outputs": [],
   "source": [
    "## Datos iniciales\n",
    "tasa_lriesgo = 0.05 \n",
    "premio_rm = 0.10 \n",
    "A = 3  # nivel de aversión al riesgo "
   ]
  },
  {
   "cell_type": "code",
   "execution_count": 16,
   "metadata": {},
   "outputs": [
    {
     "data": {
      "text/html": [
       "<div>\n",
       "<style scoped>\n",
       "    .dataframe tbody tr th:only-of-type {\n",
       "        vertical-align: middle;\n",
       "    }\n",
       "\n",
       "    .dataframe tbody tr th {\n",
       "        vertical-align: top;\n",
       "    }\n",
       "\n",
       "    .dataframe thead th {\n",
       "        text-align: right;\n",
       "    }\n",
       "</style>\n",
       "<table border=\"1\" class=\"dataframe\">\n",
       "  <thead>\n",
       "    <tr style=\"text-align: right;\">\n",
       "      <th></th>\n",
       "      <th>KIMBERA MF Equity</th>\n",
       "      <th>GAPB MF Equity</th>\n",
       "      <th>CEMEXCPO MF Equity</th>\n",
       "      <th>ASURB MF Equity</th>\n",
       "      <th>GFNORTEO MF Equity</th>\n",
       "      <th>KOFUBL MF Equity</th>\n",
       "      <th>AC* MF Equity</th>\n",
       "      <th>LABB MF Equity</th>\n",
       "      <th>FEMSAUBD MF Equity</th>\n",
       "      <th>OMAB MF Equity</th>\n",
       "      <th>...</th>\n",
       "      <th>MEGACPO MF Equity</th>\n",
       "      <th>GCC* MF Equity</th>\n",
       "      <th>BIMBOA MF Equity</th>\n",
       "      <th>GMEXICOB MF Equity</th>\n",
       "      <th>GCARSOA1 MF Equity</th>\n",
       "      <th>TLEVICPO MF Equity</th>\n",
       "      <th>ALFAA MF Equity</th>\n",
       "      <th>BSMXB MF Equity</th>\n",
       "      <th>PINFRA* MF Equity</th>\n",
       "      <th>MEXBOL INDEX</th>\n",
       "    </tr>\n",
       "    <tr>\n",
       "      <th>DATE</th>\n",
       "      <th></th>\n",
       "      <th></th>\n",
       "      <th></th>\n",
       "      <th></th>\n",
       "      <th></th>\n",
       "      <th></th>\n",
       "      <th></th>\n",
       "      <th></th>\n",
       "      <th></th>\n",
       "      <th></th>\n",
       "      <th></th>\n",
       "      <th></th>\n",
       "      <th></th>\n",
       "      <th></th>\n",
       "      <th></th>\n",
       "      <th></th>\n",
       "      <th></th>\n",
       "      <th></th>\n",
       "      <th></th>\n",
       "      <th></th>\n",
       "      <th></th>\n",
       "    </tr>\n",
       "  </thead>\n",
       "  <tbody>\n",
       "    <tr>\n",
       "      <th>2016-01-01</th>\n",
       "      <td>40.37</td>\n",
       "      <td>152.05</td>\n",
       "      <td>8.72</td>\n",
       "      <td>243.89</td>\n",
       "      <td>94.99</td>\n",
       "      <td>123.90</td>\n",
       "      <td>104.68</td>\n",
       "      <td>13.85</td>\n",
       "      <td>161.63</td>\n",
       "      <td>83.61</td>\n",
       "      <td>...</td>\n",
       "      <td>64.19</td>\n",
       "      <td>44.81</td>\n",
       "      <td>45.95</td>\n",
       "      <td>36.79</td>\n",
       "      <td>70.98</td>\n",
       "      <td>94.34</td>\n",
       "      <td>34.10</td>\n",
       "      <td>30.25</td>\n",
       "      <td>202.73</td>\n",
       "      <td>42977.50</td>\n",
       "    </tr>\n",
       "    <tr>\n",
       "      <th>2016-01-04</th>\n",
       "      <td>39.16</td>\n",
       "      <td>148.57</td>\n",
       "      <td>8.43</td>\n",
       "      <td>238.29</td>\n",
       "      <td>91.79</td>\n",
       "      <td>120.29</td>\n",
       "      <td>102.09</td>\n",
       "      <td>14.41</td>\n",
       "      <td>157.62</td>\n",
       "      <td>81.77</td>\n",
       "      <td>...</td>\n",
       "      <td>64.45</td>\n",
       "      <td>43.51</td>\n",
       "      <td>45.02</td>\n",
       "      <td>35.71</td>\n",
       "      <td>69.83</td>\n",
       "      <td>92.62</td>\n",
       "      <td>33.74</td>\n",
       "      <td>29.46</td>\n",
       "      <td>202.93</td>\n",
       "      <td>42113.70</td>\n",
       "    </tr>\n",
       "    <tr>\n",
       "      <th>2016-01-05</th>\n",
       "      <td>38.89</td>\n",
       "      <td>147.93</td>\n",
       "      <td>8.31</td>\n",
       "      <td>233.03</td>\n",
       "      <td>91.72</td>\n",
       "      <td>118.82</td>\n",
       "      <td>101.12</td>\n",
       "      <td>13.77</td>\n",
       "      <td>157.80</td>\n",
       "      <td>81.58</td>\n",
       "      <td>...</td>\n",
       "      <td>63.16</td>\n",
       "      <td>43.51</td>\n",
       "      <td>45.77</td>\n",
       "      <td>36.45</td>\n",
       "      <td>70.70</td>\n",
       "      <td>91.89</td>\n",
       "      <td>33.99</td>\n",
       "      <td>29.72</td>\n",
       "      <td>203.56</td>\n",
       "      <td>42041.68</td>\n",
       "    </tr>\n",
       "    <tr>\n",
       "      <th>2016-01-06</th>\n",
       "      <td>39.13</td>\n",
       "      <td>146.99</td>\n",
       "      <td>8.29</td>\n",
       "      <td>231.97</td>\n",
       "      <td>91.63</td>\n",
       "      <td>120.32</td>\n",
       "      <td>102.50</td>\n",
       "      <td>13.65</td>\n",
       "      <td>156.37</td>\n",
       "      <td>82.03</td>\n",
       "      <td>...</td>\n",
       "      <td>63.27</td>\n",
       "      <td>43.51</td>\n",
       "      <td>45.97</td>\n",
       "      <td>35.57</td>\n",
       "      <td>70.47</td>\n",
       "      <td>90.41</td>\n",
       "      <td>33.65</td>\n",
       "      <td>29.67</td>\n",
       "      <td>199.80</td>\n",
       "      <td>41691.19</td>\n",
       "    </tr>\n",
       "    <tr>\n",
       "      <th>2016-01-07</th>\n",
       "      <td>39.16</td>\n",
       "      <td>141.32</td>\n",
       "      <td>7.64</td>\n",
       "      <td>230.71</td>\n",
       "      <td>89.54</td>\n",
       "      <td>120.20</td>\n",
       "      <td>101.16</td>\n",
       "      <td>13.25</td>\n",
       "      <td>155.14</td>\n",
       "      <td>80.94</td>\n",
       "      <td>...</td>\n",
       "      <td>62.78</td>\n",
       "      <td>42.76</td>\n",
       "      <td>46.18</td>\n",
       "      <td>35.01</td>\n",
       "      <td>68.15</td>\n",
       "      <td>90.23</td>\n",
       "      <td>31.46</td>\n",
       "      <td>28.50</td>\n",
       "      <td>196.75</td>\n",
       "      <td>40661.57</td>\n",
       "    </tr>\n",
       "  </tbody>\n",
       "</table>\n",
       "<p>5 rows × 36 columns</p>\n",
       "</div>"
      ],
      "text/plain": [
       "            KIMBERA MF Equity  GAPB MF Equity  CEMEXCPO MF Equity  \\\n",
       "DATE                                                                \n",
       "2016-01-01              40.37          152.05                8.72   \n",
       "2016-01-04              39.16          148.57                8.43   \n",
       "2016-01-05              38.89          147.93                8.31   \n",
       "2016-01-06              39.13          146.99                8.29   \n",
       "2016-01-07              39.16          141.32                7.64   \n",
       "\n",
       "            ASURB MF Equity  GFNORTEO MF Equity  KOFUBL MF Equity  \\\n",
       "DATE                                                                \n",
       "2016-01-01           243.89               94.99            123.90   \n",
       "2016-01-04           238.29               91.79            120.29   \n",
       "2016-01-05           233.03               91.72            118.82   \n",
       "2016-01-06           231.97               91.63            120.32   \n",
       "2016-01-07           230.71               89.54            120.20   \n",
       "\n",
       "            AC* MF Equity  LABB MF Equity  FEMSAUBD MF Equity  OMAB MF Equity  \\\n",
       "DATE                                                                            \n",
       "2016-01-01         104.68           13.85              161.63           83.61   \n",
       "2016-01-04         102.09           14.41              157.62           81.77   \n",
       "2016-01-05         101.12           13.77              157.80           81.58   \n",
       "2016-01-06         102.50           13.65              156.37           82.03   \n",
       "2016-01-07         101.16           13.25              155.14           80.94   \n",
       "\n",
       "            ...  MEGACPO MF Equity  GCC* MF Equity  BIMBOA MF Equity  \\\n",
       "DATE        ...                                                        \n",
       "2016-01-01  ...              64.19           44.81             45.95   \n",
       "2016-01-04  ...              64.45           43.51             45.02   \n",
       "2016-01-05  ...              63.16           43.51             45.77   \n",
       "2016-01-06  ...              63.27           43.51             45.97   \n",
       "2016-01-07  ...              62.78           42.76             46.18   \n",
       "\n",
       "            GMEXICOB MF Equity  GCARSOA1 MF Equity  TLEVICPO MF Equity  \\\n",
       "DATE                                                                     \n",
       "2016-01-01               36.79               70.98               94.34   \n",
       "2016-01-04               35.71               69.83               92.62   \n",
       "2016-01-05               36.45               70.70               91.89   \n",
       "2016-01-06               35.57               70.47               90.41   \n",
       "2016-01-07               35.01               68.15               90.23   \n",
       "\n",
       "            ALFAA MF Equity  BSMXB MF Equity  PINFRA* MF Equity  MEXBOL INDEX  \n",
       "DATE                                                                           \n",
       "2016-01-01            34.10            30.25             202.73      42977.50  \n",
       "2016-01-04            33.74            29.46             202.93      42113.70  \n",
       "2016-01-05            33.99            29.72             203.56      42041.68  \n",
       "2016-01-06            33.65            29.67             199.80      41691.19  \n",
       "2016-01-07            31.46            28.50             196.75      40661.57  \n",
       "\n",
       "[5 rows x 36 columns]"
      ]
     },
     "execution_count": 16,
     "metadata": {},
     "output_type": "execute_result"
    }
   ],
   "source": [
    "port_path = \"Prueba.xlsx\"\n",
    "market = pd.read_excel(port_path, index_col=0)\n",
    "market.head()"
   ]
  },
  {
   "cell_type": "code",
   "execution_count": 88,
   "metadata": {},
   "outputs": [],
   "source": [
    "### Acciones seleccionadas\n",
    "acciones = [\"ASURB\", \"GFNORTEO\", \"GMEXICOB\", \"AMXL\", \"MEGACPO\", \"GCC*\", \"WALMEX*\" ]\n",
    "\n",
    "rendimientos = market.pct_change().dropna(axis=0)\n",
    "rendimientos.columns = [col.replace(\" MF Equity\", \"\") for col in rendimientos.columns]\n",
    "rend_portafolio = rendimientos[acciones]"
   ]
  },
  {
   "cell_type": "markdown",
   "metadata": {},
   "source": [
    "## 1.- Rendimiento esperado diario y anual \n",
    "### a) Modelo de rendimiento promedio constante"
   ]
  },
  {
   "cell_type": "code",
   "execution_count": 72,
   "metadata": {},
   "outputs": [
    {
     "name": "stdout",
     "output_type": "stream",
     "text": [
      "El rendimiento diario de ASURB = 0.0102%\n",
      "El rendimiento diario de GFNORTEO = 0.0193%\n",
      "El rendimiento diario de GMEXICOB = 0.0260%\n",
      "El rendimiento diario de AMXL = 0.0151%\n",
      "El rendimiento diario de MEGACPO = 0.0206%\n",
      "El rendimiento diario de GCC* = 0.0262%\n",
      "El rendimiento diario de WALMEX* = 0.0493%\n"
     ]
    }
   ],
   "source": [
    "## Rendimiento diario\n",
    "rend_diario = rend_portafolio.mean()\n",
    "print(f\"El rendimiento diario de ASURB = {rend_diario[0]:,.4%}\")\n",
    "print(f\"El rendimiento diario de GFNORTEO = {rend_diario[1]:,.4%}\")\n",
    "print(f\"El rendimiento diario de GMEXICOB = {rend_diario[2]:,.4%}\")\n",
    "print(f\"El rendimiento diario de AMXL = {rend_diario[3]:,.4%}\")\n",
    "print(f\"El rendimiento diario de MEGACPO = {rend_diario[4]:,.4%}\")\n",
    "print(f\"El rendimiento diario de GCC* = {rend_diario[5]:,.4%}\")\n",
    "print(f\"El rendimiento diario de WALMEX* = {rend_diario[6]:,.4%}\")"
   ]
  },
  {
   "cell_type": "code",
   "execution_count": 74,
   "metadata": {},
   "outputs": [
    {
     "name": "stdout",
     "output_type": "stream",
     "text": [
      "El rendimiento anual de ASURB = 2.5599%\n",
      "El rendimiento anual de GFNORTEO = 4.8631%\n",
      "El rendimiento anual de GMEXICOB = 6.5446%\n",
      "El rendimiento anual de AMXL = 3.8057%\n",
      "El rendimiento anual de MEGACPO = 5.1938%\n",
      "El rendimiento anual de GCC* = 6.5943%\n",
      "El rendimiento anual de WALMEX* = 12.4216%\n"
     ]
    }
   ],
   "source": [
    "## Rendimiento anual \n",
    "rend_anual = rend_portafolio.mean()*252\n",
    "print(f\"El rendimiento anual de ASURB = {rend_anual[0]:,.4%}\")\n",
    "print(f\"El rendimiento anual de GFNORTEO = {rend_anual[1]:,.4%}\")\n",
    "print(f\"El rendimiento anual de GMEXICOB = {rend_anual[2]:,.4%}\")\n",
    "print(f\"El rendimiento anual de AMXL = {rend_anual[3]:,.4%}\")\n",
    "print(f\"El rendimiento anual de MEGACPO = {rend_anual[4]:,.4%}\")\n",
    "print(f\"El rendimiento anual de GCC* = {rend_anual[5]:,.4%}\")\n",
    "print(f\"El rendimiento anual de WALMEX* = {rend_anual[6]:,.4%}\")"
   ]
  },
  {
   "cell_type": "markdown",
   "metadata": {},
   "source": [
    "### b) Modelo CAPM \n",
    "#### i) ¿Cuál es la beta de cada acción?"
   ]
  },
  {
   "cell_type": "code",
   "execution_count": 76,
   "metadata": {},
   "outputs": [],
   "source": [
    "Phi = rendimientos.iloc[:, :-1].values\n",
    "t = rendimientos.iloc[:, [-1]]\n",
    "N, M = Phi.shape\n",
    "\n",
    "I = np.concatenate([np.identity(M)] * 2, axis=1)\n",
    "I = np.concatenate([I] * 2, axis=0)\n",
    "\n",
    "P = np.ones((N, M))\n",
    "P = np.c_[P, Phi]"
   ]
  },
  {
   "cell_type": "code",
   "execution_count": 77,
   "metadata": {},
   "outputs": [],
   "source": [
    "W = np.linalg.inv((P.T @ P) * I) @ P.T @ t\n",
    "W[\"security\"]  = np.concatenate([rendimientos.columns[:-1]] * 2)\n",
    "W[\"param\"] = [\"alpha\"] * M + [\"beta\"] * M\n",
    "B = W.pivot_table(index=\"security\", columns=\"param\", values=\"MEXBOL INDEX\")"
   ]
  },
  {
   "cell_type": "code",
   "execution_count": 78,
   "metadata": {},
   "outputs": [
    {
     "data": {
      "text/plain": [
       "security\n",
       "ASURB       0.300818\n",
       "GFNORTEO    0.305996\n",
       "GMEXICOB    0.265880\n",
       "AMXL        0.432599\n",
       "MEGACPO     0.169574\n",
       "GCC*        0.213326\n",
       "WALMEX*     0.294421\n",
       "Name: beta, dtype: float64"
      ]
     },
     "execution_count": 78,
     "metadata": {},
     "output_type": "execute_result"
    }
   ],
   "source": [
    "B.loc[acciones][\"beta\"]"
   ]
  },
  {
   "cell_type": "markdown",
   "metadata": {},
   "source": [
    "#### ii) Clasifica las acciones en defensivas y agresivas\n",
    "\n",
    "Como todas las betas son menores a 1, entonces todas las acciones son defensivas, lo que significa que la acción registra una menor variabilidad que su indice de referencia (MEXBOL), o posee para el mercado un menor riesgo."
   ]
  },
  {
   "cell_type": "code",
   "execution_count": 79,
   "metadata": {},
   "outputs": [],
   "source": [
    "def port_rend(weights, r):\n",
    "    E_p = (r.mean() @ weights) * 252\n",
    "    return E_p\n",
    "\n",
    "def port_vol(weights, r):\n",
    "    S_p = np.sqrt(weights.T @ (r.cov() * 252) @ weights)\n",
    "    return S_p"
   ]
  },
  {
   "cell_type": "code",
   "execution_count": 94,
   "metadata": {},
   "outputs": [
    {
     "data": {
      "text/plain": [
       "     fun: 0.13037955911151453\n",
       "     jac: array([0.13019519, 0.13066219, 0.12999726, 0.12993868, 0.13059618,\n",
       "       0.13058146, 0.13038693])\n",
       " message: 'Optimization terminated successfully.'\n",
       "    nfev: 109\n",
       "     nit: 12\n",
       "    njev: 12\n",
       "  status: 0\n",
       " success: True\n",
       "       x: array([ 0.14707726, -0.01290955,  0.05629077,  0.12497931,  0.2498886 ,\n",
       "        0.25729844,  0.17737517])"
      ]
     },
     "execution_count": 94,
     "metadata": {},
     "output_type": "execute_result"
    }
   ],
   "source": [
    "N, M = rend_portafolio.shape\n",
    "w0  = np.random.randn(M)\n",
    "\n",
    "def sum_weights(weights):\n",
    "    return weights.sum() - 1 # == 0\n",
    "\n",
    "def rend_esperado(w, E):\n",
    "    return port_rend(w, rend_portafolio) - E # == 0\n",
    "\n",
    "\n",
    "constraints = [\n",
    "    {\"type\": \"eq\", \"fun\": sum_weights}\n",
    "]\n",
    "\n",
    "port0 = minimize(port_vol, w0, constraints=constraints, args=rend_portafolio)\n",
    "port0"
   ]
  },
  {
   "cell_type": "code",
   "execution_count": 95,
   "metadata": {},
   "outputs": [
    {
     "data": {
      "text/plain": [
       "(0.0635561336981203, 0.13037955911151453)"
      ]
     },
     "execution_count": 95,
     "metadata": {},
     "output_type": "execute_result"
    }
   ],
   "source": [
    "pesos = port0.x\n",
    "port_rend(pesos, rend_portafolio), port_vol(pesos, rend_portafolio)"
   ]
  },
  {
   "cell_type": "markdown",
   "metadata": {},
   "source": [
    "## 2.- Matriz varianza-covarianza"
   ]
  },
  {
   "cell_type": "code",
   "execution_count": 86,
   "metadata": {},
   "outputs": [
    {
     "data": {
      "text/html": [
       "<div>\n",
       "<style scoped>\n",
       "    .dataframe tbody tr th:only-of-type {\n",
       "        vertical-align: middle;\n",
       "    }\n",
       "\n",
       "    .dataframe tbody tr th {\n",
       "        vertical-align: top;\n",
       "    }\n",
       "\n",
       "    .dataframe thead th {\n",
       "        text-align: right;\n",
       "    }\n",
       "</style>\n",
       "<table border=\"1\" class=\"dataframe\">\n",
       "  <thead>\n",
       "    <tr style=\"text-align: right;\">\n",
       "      <th></th>\n",
       "      <th>ASURB</th>\n",
       "      <th>GFNORTEO</th>\n",
       "      <th>GMEXICOB</th>\n",
       "      <th>AMXL</th>\n",
       "      <th>MEGACPO</th>\n",
       "      <th>GCC*</th>\n",
       "      <th>WALMEX*</th>\n",
       "    </tr>\n",
       "  </thead>\n",
       "  <tbody>\n",
       "    <tr>\n",
       "      <th>ASURB</th>\n",
       "      <td>0.000229</td>\n",
       "      <td>0.000095</td>\n",
       "      <td>0.000075</td>\n",
       "      <td>0.000069</td>\n",
       "      <td>0.000018</td>\n",
       "      <td>0.000040</td>\n",
       "      <td>0.000042</td>\n",
       "    </tr>\n",
       "    <tr>\n",
       "      <th>GFNORTEO</th>\n",
       "      <td>0.000095</td>\n",
       "      <td>0.000381</td>\n",
       "      <td>0.000082</td>\n",
       "      <td>0.000099</td>\n",
       "      <td>0.000051</td>\n",
       "      <td>0.000050</td>\n",
       "      <td>0.000089</td>\n",
       "    </tr>\n",
       "    <tr>\n",
       "      <th>GMEXICOB</th>\n",
       "      <td>0.000075</td>\n",
       "      <td>0.000082</td>\n",
       "      <td>0.000318</td>\n",
       "      <td>0.000080</td>\n",
       "      <td>0.000026</td>\n",
       "      <td>0.000052</td>\n",
       "      <td>0.000053</td>\n",
       "    </tr>\n",
       "    <tr>\n",
       "      <th>AMXL</th>\n",
       "      <td>0.000069</td>\n",
       "      <td>0.000099</td>\n",
       "      <td>0.000080</td>\n",
       "      <td>0.000193</td>\n",
       "      <td>0.000042</td>\n",
       "      <td>0.000040</td>\n",
       "      <td>0.000051</td>\n",
       "    </tr>\n",
       "    <tr>\n",
       "      <th>MEGACPO</th>\n",
       "      <td>0.000018</td>\n",
       "      <td>0.000051</td>\n",
       "      <td>0.000026</td>\n",
       "      <td>0.000042</td>\n",
       "      <td>0.000198</td>\n",
       "      <td>0.000019</td>\n",
       "      <td>0.000025</td>\n",
       "    </tr>\n",
       "    <tr>\n",
       "      <th>GCC*</th>\n",
       "      <td>0.000040</td>\n",
       "      <td>0.000050</td>\n",
       "      <td>0.000052</td>\n",
       "      <td>0.000040</td>\n",
       "      <td>0.000019</td>\n",
       "      <td>0.000171</td>\n",
       "      <td>0.000031</td>\n",
       "    </tr>\n",
       "    <tr>\n",
       "      <th>WALMEX*</th>\n",
       "      <td>0.000042</td>\n",
       "      <td>0.000089</td>\n",
       "      <td>0.000053</td>\n",
       "      <td>0.000051</td>\n",
       "      <td>0.000025</td>\n",
       "      <td>0.000031</td>\n",
       "      <td>0.000219</td>\n",
       "    </tr>\n",
       "  </tbody>\n",
       "</table>\n",
       "</div>"
      ],
      "text/plain": [
       "             ASURB  GFNORTEO  GMEXICOB      AMXL   MEGACPO      GCC*   WALMEX*\n",
       "ASURB     0.000229  0.000095  0.000075  0.000069  0.000018  0.000040  0.000042\n",
       "GFNORTEO  0.000095  0.000381  0.000082  0.000099  0.000051  0.000050  0.000089\n",
       "GMEXICOB  0.000075  0.000082  0.000318  0.000080  0.000026  0.000052  0.000053\n",
       "AMXL      0.000069  0.000099  0.000080  0.000193  0.000042  0.000040  0.000051\n",
       "MEGACPO   0.000018  0.000051  0.000026  0.000042  0.000198  0.000019  0.000025\n",
       "GCC*      0.000040  0.000050  0.000052  0.000040  0.000019  0.000171  0.000031\n",
       "WALMEX*   0.000042  0.000089  0.000053  0.000051  0.000025  0.000031  0.000219"
      ]
     },
     "execution_count": 86,
     "metadata": {},
     "output_type": "execute_result"
    }
   ],
   "source": [
    "rend_portafolio.cov()"
   ]
  },
  {
   "cell_type": "markdown",
   "metadata": {},
   "source": [
    "# Utilizando los rendimientos esperados bajo el modelo CAPM, construye:\n",
    "## 3.- Frontera de carteras de mínima varianza y frontera eficiente / graficar  "
   ]
  },
  {
   "cell_type": "code",
   "execution_count": 103,
   "metadata": {},
   "outputs": [],
   "source": [
    "r_min = port_rend(pesos, rend_portafolio)\n",
    "r_max = rend_anual.max()\n",
    "\n",
    "rend_max = np.linspace(r_min, r_max)"
   ]
  },
  {
   "cell_type": "code",
   "execution_count": 104,
   "metadata": {},
   "outputs": [],
   "source": [
    "pesos_optimos = []\n",
    "for e in rend_max:\n",
    "    constraints = [\n",
    "        {\"type\": \"eq\", \"fun\": sum_weights},\n",
    "        {\"type\": \"eq\", \"fun\": lambda w: rend_esperado(w, e)}\n",
    "    ]\n",
    "\n",
    "    port1 = minimize(port_vol, w0, constraints=constraints, args=rend_portafolio)\n",
    "    w_opt = port1.x\n",
    "    pesos_optimos.append(w_opt)"
   ]
  },
  {
   "cell_type": "code",
   "execution_count": 105,
   "metadata": {},
   "outputs": [
    {
     "data": {
      "text/plain": [
       "<matplotlib.colorbar.Colorbar at 0x2573dde5c88>"
      ]
     },
     "execution_count": 105,
     "metadata": {},
     "output_type": "execute_result"
    },
    {
     "data": {
      "image/png": "[encoded data removed]",
      "text/plain": [
       "<Figure size 432x288 with 2 Axes>"
      ]
     },
     "metadata": {
      "image/png": {
       "height": 248,
       "width": 368
      },
      "needs_background": "light"
     },
     "output_type": "display_data"
    }
   ],
   "source": [
    "r_opt = []\n",
    "v_opt = []\n",
    "for w in pesos_optimos:\n",
    "    r_opt.append(port_rend(w, rend_portafolio))\n",
    "    v_opt.append(port_vol(w, rend_portafolio))\n",
    "\n",
    "r_opt = np.array(r_opt)\n",
    "v_opt = np.array(v_opt)\n",
    "\n",
    "plt.scatter(v_opt, r_opt, c=r_opt)\n",
    "plt.colorbar()"
   ]
  },
  {
   "cell_type": "markdown",
   "metadata": {},
   "source": [
    "## 4.- Encuentra el portafolio riesgoso óptimo (maximiza el coeficiente de Sharpe)"
   ]
  },
  {
   "cell_type": "code",
   "execution_count": 116,
   "metadata": {},
   "outputs": [],
   "source": [
    "rf = 0.05\n",
    "\n",
    "def min_func_sharpe(weights):\n",
    "    return - (port_rend(weights, rend_portafolio) - rf) / port_vol(weights, rend_portafolio)\n",
    "\n",
    "constraints = [\n",
    "    {\"type\": \"eq\", \"fun\": sum_weights}\n",
    "]\n",
    "\n",
    "f_sharpe = minimize(min_func_sharpe, w0, constraints=constraints)"
   ]
  },
  {
   "cell_type": "code",
   "execution_count": 117,
   "metadata": {},
   "outputs": [
    {
     "data": {
      "text/plain": [
       "array([-0.75814733, -0.23305448,  0.24096712, -0.61876768, -0.00879561,\n",
       "        0.42330533,  1.95449265])"
      ]
     },
     "execution_count": 117,
     "metadata": {},
     "output_type": "execute_result"
    }
   ],
   "source": [
    "w_sharpe = f_sharpe.x\n",
    "w_sharpe"
   ]
  },
  {
   "cell_type": "code",
   "execution_count": 118,
   "metadata": {},
   "outputs": [
    {
     "data": {
      "text/plain": [
       "<matplotlib.legend.Legend at 0x2573e7e2588>"
      ]
     },
     "execution_count": 118,
     "metadata": {},
     "output_type": "execute_result"
    },
    {
     "data": {
      "image/png": "[encoded data removed]",
      "text/plain": [
       "<Figure size 432x288 with 1 Axes>"
      ]
     },
     "metadata": {
      "image/png": {
       "height": 248,
       "width": 385
      },
      "needs_background": "light"
     },
     "output_type": "display_data"
    }
   ],
   "source": [
    "e_sharpe = port_rend(w_sharpe, rend_portafolio)\n",
    "vol_sharpe = port_vol(w_sharpe, rend_portafolio)\n",
    "\n",
    "sigma_c =  np.linspace(0, 0.50)\n",
    "sharpe = rf + sigma_c * (e_sharpe - rf) / vol_sharpe\n",
    "\n",
    "plt.plot(sigma_c, sharpe, linestyle=\"--\", c=\"tab:orange\", label=\"Capital Allocation Line\")\n",
    "plt.plot(v_opt, r_opt)\n",
    "plt.legend(fontsize=12)"
   ]
  },
  {
   "cell_type": "code",
   "execution_count": 119,
   "metadata": {},
   "outputs": [
    {
     "data": {
      "text/plain": [
       "(0.2317170544754409, 0.4781488895043789)"
      ]
     },
     "execution_count": 119,
     "metadata": {},
     "output_type": "execute_result"
    }
   ],
   "source": [
    "e_sharpe, vol_sharpe"
   ]
  },
  {
   "cell_type": "markdown",
   "metadata": {},
   "source": [
    "## 5.- Elige los porcentajes a invertir en el portafolio riesgoso óptimo y el activo libre de riesgo"
   ]
  },
  {
   "cell_type": "code",
   "execution_count": 120,
   "metadata": {},
   "outputs": [
    {
     "data": {
      "text/plain": [
       "0.26494036536409776"
      ]
     },
     "execution_count": 120,
     "metadata": {},
     "output_type": "execute_result"
    }
   ],
   "source": [
    "A = 3\n",
    "y_star = (e_sharpe-rf)/(A*vol_sharpe**2)\n",
    "y_star"
   ]
  },
  {
   "cell_type": "code",
   "execution_count": 121,
   "metadata": {},
   "outputs": [],
   "source": [
    "E_util = rf + y_star * (e_sharpe-rf)\n",
    "V_util = y_star * vol_sharpe"
   ]
  },
  {
   "cell_type": "code",
   "execution_count": 122,
   "metadata": {},
   "outputs": [
    {
     "name": "stdout",
     "output_type": "stream",
     "text": [
      "E[sharpe]=0.232\n",
      "V[sharpe]=0.478\n"
     ]
    }
   ],
   "source": [
    "print(f\"E[sharpe]={e_sharpe:0.3}\")\n",
    "print(f\"V[sharpe]={vol_sharpe:0.3}\")"
   ]
  },
  {
   "cell_type": "code",
   "execution_count": 123,
   "metadata": {},
   "outputs": [
    {
     "name": "stdout",
     "output_type": "stream",
     "text": [
      "E[u]=0.0981\n",
      "V[u]=0.127\n"
     ]
    }
   ],
   "source": [
    "print(f\"E[u]={E_util:0.3}\")\n",
    "print(f\"V[u]={V_util:0.3}\")"
   ]
  },
  {
   "cell_type": "markdown",
   "metadata": {},
   "source": [
    "# Deep Learning\n",
    "\n",
    "## 6.- ¿En qué escenarios ocuparías una red neuronal? \n",
    "\n",
    "Cuando existe dependencia no lineal entre los datos, los escenarios más comúnes en los que se utilizan las redes neuronales son: en la elección de muestras de un grupo más grande de las mismas, clasificación de una muestra desconocida en clases predefinidas anteriormente, clustering que es encontrar la estructura interna del espacio de medición al que pertenecen las muestras, y por último, crear modelos para predecir el comportamiento o el efecto de una muestra desconocida de una manera cuantitativa. "
   ]
  },
  {
   "cell_type": "markdown",
   "metadata": {},
   "source": [
    "## 7.- ¿En qué escenarios no ocuparías una red neuronal?\n",
    "\n",
    "No usaría una red neuronal cuando existe dependencia lineal entre los datos de entrada y los outputs, las redes neuronales pueden usarse cuando existe una relación linial también pero el resultado no es el mejor y se opta por utilizar otro tipo de metodos estadísticos. Es importante tomar en cuenta la naturaleza de los datos del problema, si se requiere un metodo supervisado o no supervisado."
   ]
  },
  {
   "cell_type": "markdown",
   "metadata": {},
   "source": [
    "## 8.- Menciona tres funciones de activación para una red neuronal feed-forward \n",
    "\n",
    "Una función de activación es aquella función no lineal que ayuda a transformar el espacio, las tres que hemos visto son:\n",
    "* Función sigmoidal,  $\\sigma(x)=\\frac{1}{1+\\exp(x)}$\\\\\n",
    "* $Tan hip (x) =\\frac{\\exp(x)-\\exp(-x)}{\\exp(x)+\\exp(-x)} $\n",
    "* $ReLu = max(0,x)$"
   ]
  },
  {
   "cell_type": "markdown",
   "metadata": {},
   "source": [
    "## 9.- ¿Qué es el método backpropagation?\n",
    "\n",
    "Algoritmo introducido por Geoff Hint, diseñado para entrenar una red neuronal. \\\\\n",
    "Utiliza una expresión para las derivadas parciales de la función de costo con respecto a los pesos de la red neuronal. Esta epresión nos dice que tan rápido cambia la funcón de costos cuando variamos los pesos y los sesgos.\n",
    "El algoritmo consiste en que nosotros tenemos tenemos inicialmente la función de costos, y sabemos sacar sus derivadas, entonces podemos \"propagar\" el error desde el final hasta el inicio (regla de la cadena)."
   ]
  },
  {
   "cell_type": "markdown",
   "metadata": {},
   "source": [
    "## 10.- ¿En qué difiere una red neuronal feed-forward de una red neuronal convucional?\n",
    "\n",
    "Una red neuronal convucional es un algoritmo que pueda incorporar una imagen de entrada, asignarle importancia (pesos) a varios aspectos de la imagen y ser capaz de diferenciar uno de otro. El procesamiento requerido es mucho menor en comparación con otros algoritmos de clasificación. Es capaz de capturar las dependencias espaciales y temporales en una imagen mediante la aplicación de filtros, la arquitectura se adapta mejor al conjunto de datos de la imagen debido a la reducción del número de parámetros involucrados y la reutilización de pesos (ciclo). \n",
    "A diferencia de la red neuronal feed-forward que es aquella donde las conexiones no forman un ciclo, la información se mueve en una única dirección (adelante) desde los nodos de entrada, pasando por los hidden layers y termina en los nodos de salida. "
   ]
  }
 ],
 "metadata": {
  "kernelspec": {
   "display_name": "Python 3",
   "language": "python",
   "name": "python3"
  },
  "language_info": {
   "codemirror_mode": {
    "name": "ipython",
    "version": 3
   },
   "file_extension": ".py",
   "mimetype": "text/x-python",
   "name": "python",
   "nbconvert_exporter": "python",
   "pygments_lexer": "ipython3",
   "version": "3.7.3"
  }
 },
 "nbformat": 4,
 "nbformat_minor": 2
}
