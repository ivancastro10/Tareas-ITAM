{
 "cells": [
  {
   "cell_type": "markdown",
   "metadata": {},
   "source": [
    "## Erick Iván Castro Granados \n",
    "\n",
    "## ITAM \n",
    "\n",
    "## Proyecto 2 Housing "
   ]
  },
  {
   "cell_type": "code",
   "execution_count": 45,
   "metadata": {},
   "outputs": [],
   "source": [
    "import numpy as np\n",
    "import matplotlib.pyplot as plt\n",
    "from numpy.random import seed, randn\n",
    "from sklearn.datasets import fetch_california_housing\n",
    "from sklearn.model_selection import train_test_split, cross_validate\n",
    "import pandas as pd\n",
    "from sklearn.preprocessing import OneHotEncoder\n",
    "from sklearn.impute import SimpleImputer\n",
    "from sklearn.compose import ColumnTransformer, make_column_selector\n",
    "from sklearn.pipeline import Pipeline\n",
    "from sklearn.linear_model import Lasso\n",
    "from sklearn.linear_model import Ridge, LinearRegression\n",
    "from sklearn.ensemble import BaggingClassifier\n",
    "from sklearn.ensemble import BaggingRegressor\n",
    "from sklearn.ensemble import AdaBoostRegressor\n",
    "from sklearn.preprocessing import PolynomialFeatures, Normalizer\n",
    "from sklearn.preprocessing import OrdinalEncoder\n",
    "from sklearn import preprocessing\n",
    "from sklearn.svm import SVC, LinearSVC\n",
    "from sklearn.ensemble import VotingClassifier, VotingRegressor"
   ]
  },
  {
   "cell_type": "code",
   "execution_count": 2,
   "metadata": {
    "scrolled": true
   },
   "outputs": [
    {
     "data": {
      "text/html": [
       "<div>\n",
       "<style scoped>\n",
       "    .dataframe tbody tr th:only-of-type {\n",
       "        vertical-align: middle;\n",
       "    }\n",
       "\n",
       "    .dataframe tbody tr th {\n",
       "        vertical-align: top;\n",
       "    }\n",
       "\n",
       "    .dataframe thead th {\n",
       "        text-align: right;\n",
       "    }\n",
       "</style>\n",
       "<table border=\"1\" class=\"dataframe\">\n",
       "  <thead>\n",
       "    <tr style=\"text-align: right;\">\n",
       "      <th></th>\n",
       "      <th>Id</th>\n",
       "      <th>MSSubClass</th>\n",
       "      <th>MSZoning</th>\n",
       "      <th>LotFrontage</th>\n",
       "      <th>LotArea</th>\n",
       "      <th>Street</th>\n",
       "      <th>Alley</th>\n",
       "      <th>LotShape</th>\n",
       "      <th>LandContour</th>\n",
       "      <th>Utilities</th>\n",
       "      <th>...</th>\n",
       "      <th>PoolArea</th>\n",
       "      <th>PoolQC</th>\n",
       "      <th>Fence</th>\n",
       "      <th>MiscFeature</th>\n",
       "      <th>MiscVal</th>\n",
       "      <th>MoSold</th>\n",
       "      <th>YrSold</th>\n",
       "      <th>SaleType</th>\n",
       "      <th>SaleCondition</th>\n",
       "      <th>SalePrice</th>\n",
       "    </tr>\n",
       "  </thead>\n",
       "  <tbody>\n",
       "    <tr>\n",
       "      <th>0</th>\n",
       "      <td>1</td>\n",
       "      <td>60</td>\n",
       "      <td>RL</td>\n",
       "      <td>65.0</td>\n",
       "      <td>8450</td>\n",
       "      <td>Pave</td>\n",
       "      <td>NaN</td>\n",
       "      <td>Reg</td>\n",
       "      <td>Lvl</td>\n",
       "      <td>AllPub</td>\n",
       "      <td>...</td>\n",
       "      <td>0</td>\n",
       "      <td>NaN</td>\n",
       "      <td>NaN</td>\n",
       "      <td>NaN</td>\n",
       "      <td>0</td>\n",
       "      <td>2</td>\n",
       "      <td>2008</td>\n",
       "      <td>WD</td>\n",
       "      <td>Normal</td>\n",
       "      <td>208500</td>\n",
       "    </tr>\n",
       "    <tr>\n",
       "      <th>1</th>\n",
       "      <td>2</td>\n",
       "      <td>20</td>\n",
       "      <td>RL</td>\n",
       "      <td>80.0</td>\n",
       "      <td>9600</td>\n",
       "      <td>Pave</td>\n",
       "      <td>NaN</td>\n",
       "      <td>Reg</td>\n",
       "      <td>Lvl</td>\n",
       "      <td>AllPub</td>\n",
       "      <td>...</td>\n",
       "      <td>0</td>\n",
       "      <td>NaN</td>\n",
       "      <td>NaN</td>\n",
       "      <td>NaN</td>\n",
       "      <td>0</td>\n",
       "      <td>5</td>\n",
       "      <td>2007</td>\n",
       "      <td>WD</td>\n",
       "      <td>Normal</td>\n",
       "      <td>181500</td>\n",
       "    </tr>\n",
       "    <tr>\n",
       "      <th>2</th>\n",
       "      <td>3</td>\n",
       "      <td>60</td>\n",
       "      <td>RL</td>\n",
       "      <td>68.0</td>\n",
       "      <td>11250</td>\n",
       "      <td>Pave</td>\n",
       "      <td>NaN</td>\n",
       "      <td>IR1</td>\n",
       "      <td>Lvl</td>\n",
       "      <td>AllPub</td>\n",
       "      <td>...</td>\n",
       "      <td>0</td>\n",
       "      <td>NaN</td>\n",
       "      <td>NaN</td>\n",
       "      <td>NaN</td>\n",
       "      <td>0</td>\n",
       "      <td>9</td>\n",
       "      <td>2008</td>\n",
       "      <td>WD</td>\n",
       "      <td>Normal</td>\n",
       "      <td>223500</td>\n",
       "    </tr>\n",
       "    <tr>\n",
       "      <th>3</th>\n",
       "      <td>4</td>\n",
       "      <td>70</td>\n",
       "      <td>RL</td>\n",
       "      <td>60.0</td>\n",
       "      <td>9550</td>\n",
       "      <td>Pave</td>\n",
       "      <td>NaN</td>\n",
       "      <td>IR1</td>\n",
       "      <td>Lvl</td>\n",
       "      <td>AllPub</td>\n",
       "      <td>...</td>\n",
       "      <td>0</td>\n",
       "      <td>NaN</td>\n",
       "      <td>NaN</td>\n",
       "      <td>NaN</td>\n",
       "      <td>0</td>\n",
       "      <td>2</td>\n",
       "      <td>2006</td>\n",
       "      <td>WD</td>\n",
       "      <td>Abnorml</td>\n",
       "      <td>140000</td>\n",
       "    </tr>\n",
       "    <tr>\n",
       "      <th>4</th>\n",
       "      <td>5</td>\n",
       "      <td>60</td>\n",
       "      <td>RL</td>\n",
       "      <td>84.0</td>\n",
       "      <td>14260</td>\n",
       "      <td>Pave</td>\n",
       "      <td>NaN</td>\n",
       "      <td>IR1</td>\n",
       "      <td>Lvl</td>\n",
       "      <td>AllPub</td>\n",
       "      <td>...</td>\n",
       "      <td>0</td>\n",
       "      <td>NaN</td>\n",
       "      <td>NaN</td>\n",
       "      <td>NaN</td>\n",
       "      <td>0</td>\n",
       "      <td>12</td>\n",
       "      <td>2008</td>\n",
       "      <td>WD</td>\n",
       "      <td>Normal</td>\n",
       "      <td>250000</td>\n",
       "    </tr>\n",
       "  </tbody>\n",
       "</table>\n",
       "<p>5 rows × 81 columns</p>\n",
       "</div>"
      ],
      "text/plain": [
       "   Id  MSSubClass MSZoning  LotFrontage  LotArea Street Alley LotShape  \\\n",
       "0   1          60       RL         65.0     8450   Pave   NaN      Reg   \n",
       "1   2          20       RL         80.0     9600   Pave   NaN      Reg   \n",
       "2   3          60       RL         68.0    11250   Pave   NaN      IR1   \n",
       "3   4          70       RL         60.0     9550   Pave   NaN      IR1   \n",
       "4   5          60       RL         84.0    14260   Pave   NaN      IR1   \n",
       "\n",
       "  LandContour Utilities  ... PoolArea PoolQC Fence MiscFeature MiscVal MoSold  \\\n",
       "0         Lvl    AllPub  ...        0    NaN   NaN         NaN       0      2   \n",
       "1         Lvl    AllPub  ...        0    NaN   NaN         NaN       0      5   \n",
       "2         Lvl    AllPub  ...        0    NaN   NaN         NaN       0      9   \n",
       "3         Lvl    AllPub  ...        0    NaN   NaN         NaN       0      2   \n",
       "4         Lvl    AllPub  ...        0    NaN   NaN         NaN       0     12   \n",
       "\n",
       "  YrSold  SaleType  SaleCondition  SalePrice  \n",
       "0   2008        WD         Normal     208500  \n",
       "1   2007        WD         Normal     181500  \n",
       "2   2008        WD         Normal     223500  \n",
       "3   2006        WD        Abnorml     140000  \n",
       "4   2008        WD         Normal     250000  \n",
       "\n",
       "[5 rows x 81 columns]"
      ]
     },
     "execution_count": 2,
     "metadata": {},
     "output_type": "execute_result"
    }
   ],
   "source": [
    "housing = pd.read_csv(\"train.csv\")\n",
    "housing.head()"
   ]
  },
  {
   "cell_type": "code",
   "execution_count": 3,
   "metadata": {},
   "outputs": [
    {
     "data": {
      "text/plain": [
       "180921.19589041095"
      ]
     },
     "execution_count": 3,
     "metadata": {},
     "output_type": "execute_result"
    }
   ],
   "source": [
    "housing[\"SalePrice\"].mean(axis=0)"
   ]
  },
  {
   "cell_type": "code",
   "execution_count": 5,
   "metadata": {},
   "outputs": [
    {
     "data": {
      "text/plain": [
       "Index(['MSSubClass', 'MSZoning', 'LotFrontage', 'LotArea', 'Street', 'Alley',\n",
       "       'LotShape', 'LandContour', 'Utilities', 'LotConfig', 'LandSlope',\n",
       "       'Neighborhood', 'Condition1', 'Condition2', 'BldgType', 'HouseStyle',\n",
       "       'OverallQual', 'OverallCond', 'YearBuilt', 'YearRemodAdd', 'RoofStyle',\n",
       "       'RoofMatl', 'Exterior1st', 'Exterior2nd', 'MasVnrType', 'MasVnrArea',\n",
       "       'ExterQual', 'ExterCond', 'Foundation', 'BsmtQual', 'BsmtCond',\n",
       "       'BsmtExposure', 'BsmtFinType1', 'BsmtFinSF1', 'BsmtFinType2',\n",
       "       'BsmtFinSF2', 'BsmtUnfSF', 'TotalBsmtSF', 'Heating', 'HeatingQC',\n",
       "       'CentralAir', 'Electrical', '1stFlrSF', '2ndFlrSF', 'LowQualFinSF',\n",
       "       'GrLivArea', 'BsmtFullBath', 'BsmtHalfBath', 'FullBath', 'HalfBath',\n",
       "       'BedroomAbvGr', 'KitchenAbvGr', 'KitchenQual', 'TotRmsAbvGrd',\n",
       "       'Functional', 'Fireplaces', 'FireplaceQu', 'GarageType', 'GarageYrBlt',\n",
       "       'GarageFinish', 'GarageCars', 'GarageArea', 'GarageQual', 'GarageCond',\n",
       "       'PavedDrive', 'WoodDeckSF', 'OpenPorchSF', 'EnclosedPorch', '3SsnPorch',\n",
       "       'ScreenPorch', 'PoolArea', 'PoolQC', 'Fence', 'MiscFeature', 'MiscVal',\n",
       "       'MoSold', 'YrSold', 'SaleType', 'SaleCondition'],\n",
       "      dtype='object')"
      ]
     },
     "execution_count": 5,
     "metadata": {},
     "output_type": "execute_result"
    }
   ],
   "source": [
    "col = housing.columns\n",
    "ncol = col[1:-1]\n",
    "ncol"
   ]
  },
  {
   "cell_type": "code",
   "execution_count": 6,
   "metadata": {},
   "outputs": [
    {
     "data": {
      "text/plain": [
       "[numpy.int64,\n",
       " str,\n",
       " numpy.float64,\n",
       " numpy.int64,\n",
       " str,\n",
       " float,\n",
       " str,\n",
       " str,\n",
       " str,\n",
       " str,\n",
       " str,\n",
       " str,\n",
       " str,\n",
       " str,\n",
       " str,\n",
       " str,\n",
       " numpy.int64,\n",
       " numpy.int64,\n",
       " numpy.int64,\n",
       " numpy.int64,\n",
       " str,\n",
       " str,\n",
       " str,\n",
       " str,\n",
       " str,\n",
       " numpy.float64,\n",
       " str,\n",
       " str,\n",
       " str,\n",
       " str,\n",
       " str,\n",
       " str,\n",
       " str,\n",
       " numpy.int64,\n",
       " str,\n",
       " numpy.int64,\n",
       " numpy.int64,\n",
       " numpy.int64,\n",
       " str,\n",
       " str,\n",
       " str,\n",
       " str,\n",
       " numpy.int64,\n",
       " numpy.int64,\n",
       " numpy.int64,\n",
       " numpy.int64,\n",
       " numpy.int64,\n",
       " numpy.int64,\n",
       " numpy.int64,\n",
       " numpy.int64,\n",
       " numpy.int64,\n",
       " numpy.int64,\n",
       " str,\n",
       " numpy.int64,\n",
       " str,\n",
       " numpy.int64,\n",
       " float,\n",
       " str,\n",
       " numpy.float64,\n",
       " str,\n",
       " numpy.int64,\n",
       " numpy.int64,\n",
       " str,\n",
       " str,\n",
       " str,\n",
       " numpy.int64,\n",
       " numpy.int64,\n",
       " numpy.int64,\n",
       " numpy.int64,\n",
       " numpy.int64,\n",
       " numpy.int64,\n",
       " float,\n",
       " float,\n",
       " float,\n",
       " numpy.int64,\n",
       " numpy.int64,\n",
       " numpy.int64,\n",
       " str,\n",
       " str]"
      ]
     },
     "execution_count": 6,
     "metadata": {},
     "output_type": "execute_result"
    }
   ],
   "source": [
    "variables=[]\n",
    "for j in range(len(ncol)):\n",
    "    ty = type(housing[ncol[j]][0])\n",
    "    variables.append(ty)\n",
    "variables\n",
    "#print(f\"El num de variables num es {len(variables_num)}\")"
   ]
  },
  {
   "cell_type": "code",
   "execution_count": 7,
   "metadata": {},
   "outputs": [
    {
     "name": "stdout",
     "output_type": "stream",
     "text": [
      "Para MSSubClass el coeficiente es-0.08428413512659523, tipo<class 'numpy.int64'>\n",
      "Para LotFrontage el coeficiente es0.35179909657067854, tipo<class 'numpy.float64'>\n",
      "Para LotArea el coeficiente es0.2638433538714063, tipo<class 'numpy.int64'>\n",
      "Para OverallQual el coeficiente es0.7909816005838047, tipo<class 'numpy.int64'>\n",
      "Para OverallCond el coeficiente es-0.0778558940486776, tipo<class 'numpy.int64'>\n",
      "Para YearBuilt el coeficiente es0.5228973328794967, tipo<class 'numpy.int64'>\n",
      "Para YearRemodAdd el coeficiente es0.5071009671113867, tipo<class 'numpy.int64'>\n",
      "Para MasVnrArea el coeficiente es0.4774930470957107, tipo<class 'numpy.float64'>\n",
      "Para BsmtFinSF1 el coeficiente es0.38641980624215627, tipo<class 'numpy.int64'>\n",
      "Para BsmtFinSF2 el coeficiente es-0.011378121450215216, tipo<class 'numpy.int64'>\n",
      "Para BsmtUnfSF el coeficiente es0.214479105546969, tipo<class 'numpy.int64'>\n",
      "Para TotalBsmtSF el coeficiente es0.6135805515591944, tipo<class 'numpy.int64'>\n",
      "Para 1stFlrSF el coeficiente es0.6058521846919166, tipo<class 'numpy.int64'>\n",
      "Para 2ndFlrSF el coeficiente es0.31933380283206614, tipo<class 'numpy.int64'>\n",
      "Para LowQualFinSF el coeficiente es-0.02560613000068015, tipo<class 'numpy.int64'>\n",
      "Para GrLivArea el coeficiente es0.7086244776126511, tipo<class 'numpy.int64'>\n",
      "Para BsmtFullBath el coeficiente es0.22712223313149718, tipo<class 'numpy.int64'>\n",
      "Para BsmtHalfBath el coeficiente es-0.016844154297359294, tipo<class 'numpy.int64'>\n",
      "Para FullBath el coeficiente es0.5606637627484452, tipo<class 'numpy.int64'>\n",
      "Para HalfBath el coeficiente es0.2841076755947784, tipo<class 'numpy.int64'>\n",
      "Para BedroomAbvGr el coeficiente es0.1682131543007415, tipo<class 'numpy.int64'>\n",
      "Para KitchenAbvGr el coeficiente es-0.1359073708421417, tipo<class 'numpy.int64'>\n",
      "Para TotRmsAbvGrd el coeficiente es0.5337231555820238, tipo<class 'numpy.int64'>\n",
      "Para Fireplaces el coeficiente es0.4669288367515242, tipo<class 'numpy.int64'>\n",
      "Para GarageYrBlt el coeficiente es0.48636167748786213, tipo<class 'numpy.float64'>\n",
      "Para GarageCars el coeficiente es0.640409197258349, tipo<class 'numpy.int64'>\n",
      "Para GarageArea el coeficiente es0.6234314389183598, tipo<class 'numpy.int64'>\n",
      "Para WoodDeckSF el coeficiente es0.32441344456813076, tipo<class 'numpy.int64'>\n",
      "Para OpenPorchSF el coeficiente es0.31585622711605577, tipo<class 'numpy.int64'>\n",
      "Para EnclosedPorch el coeficiente es-0.12857795792595636, tipo<class 'numpy.int64'>\n",
      "Para 3SsnPorch el coeficiente es0.04458366533574792, tipo<class 'numpy.int64'>\n",
      "Para ScreenPorch el coeficiente es0.11144657114291048, tipo<class 'numpy.int64'>\n",
      "Para PoolArea el coeficiente es0.09240354949187278, tipo<class 'numpy.int64'>\n",
      "Para MiscVal el coeficiente es-0.02118957964030379, tipo<class 'numpy.int64'>\n",
      "Para MoSold el coeficiente es0.04643224522381936, tipo<class 'numpy.int64'>\n",
      "Para YrSold el coeficiente es-0.028922585168730426, tipo<class 'numpy.int64'>\n",
      "El num de variables num es 36\n"
     ]
    }
   ],
   "source": [
    "## Calculamos el coficiente de correlación entre SalePrice y todas las variables de tipo numerico int o float\n",
    "variables_num=[]\n",
    "for j in range(len(ncol)):\n",
    "    ty = type(housing[ncol[j]][0])\n",
    "    if ty == np.int64:\n",
    "        coef = housing.corr(method=\"pearson\")[ncol[j]][\"SalePrice\"]\n",
    "        variables_num.append(j)\n",
    "        print(f\"Para {ncol[j]} el coeficiente es{coef}, tipo{ty}\")\n",
    "    elif ty == np.float64:\n",
    "        coef = housing.corr(method=\"pearson\")[ncol[j]][\"SalePrice\"]\n",
    "        variables_num.append(j)\n",
    "        print(f\"Para {ncol[j]} el coeficiente es{coef}, tipo{ty}\")\n",
    "\n",
    "print(f\"El num de variables num es {len(variables_num)}\")"
   ]
  },
  {
   "cell_type": "markdown",
   "metadata": {},
   "source": [
    "## Tomamos la base de datos que utilizaremos para el análisis\n",
    "Refinamos la base xtrain, quitando todas las variables numericas que tienen bajo coeficiente de correlación con SalePrice"
   ]
  },
  {
   "cell_type": "code",
   "execution_count": 8,
   "metadata": {},
   "outputs": [],
   "source": [
    "### Base de datoa que usaremos para el analisis \n",
    "train, test = train_test_split(housing, test_size=0.2, random_state=2718)\n",
    "xtrain, ytrain = train.drop(\"SalePrice\", axis=1), train[\"SalePrice\"]\n",
    "\n",
    "## quitamos las varaibles que tienen menor coeficiente de correlación con SalePrice\n",
    "xtrain2=xtrain.drop([\"Id\",\"ScreenPorch\",\"BedroomAbvGr\",\"BsmtHalfBath\",\"MSSubClass\",\"OverallCond\",\"BsmtFinSF2\",\"LowQualFinSF\",\"BsmtHalfBath\",\"KitchenAbvGr\", \"EnclosedPorch\", \"MiscVal\",\"YrSold\"],axis=1)"
   ]
  },
  {
   "cell_type": "markdown",
   "metadata": {},
   "source": [
    "## Definimos nuestro pipeline inicial con transformaciones para las variables más significativas para el modelo. "
   ]
  },
  {
   "cell_type": "code",
   "execution_count": 43,
   "metadata": {},
   "outputs": [],
   "source": [
    "## Utilizamos un primer modelo\n",
    "column_selector = ColumnTransformer([\n",
    "     (\"label_bin\", OneHotEncoder(sparse=False), [\"MSZoning\",\"SaleCondition\",\"Street\"]),\n",
    "     (\"label\", OneHotEncoder(handle_unknown=\"ignore\",sparse=False), [\"Neighborhood\"]),\n",
    "     (\"numeric\", SimpleImputer(), make_column_selector(dtype_include=[\"float\",\"int\"])),\n",
    "     (\"poly\", PolynomialFeatures(5), [\"GrLivArea\",\"OverallQual\",\"GarageCars\"])\n",
    "])\n",
    "\n",
    "modelo1 = Pipeline([\n",
    "    (\"select_cols\", column_selector),\n",
    "    (\"lasso\", Lasso(alpha=0.1, tol=0.5))\n",
    "])\n",
    "\n",
    "modelo2 = Pipeline([\n",
    "    (\"select_cols\", column_selector),\n",
    "    (\"lin_reg\", LinearRegression())\n",
    "])\n",
    "\n",
    "modelo3 = Pipeline([\n",
    "    (\"select_cols\", column_selector),\n",
    "    (\"SVM\", LinearSVC())\n",
    "])"
   ]
  },
  {
   "cell_type": "markdown",
   "metadata": {},
   "source": [
    "## Entrenamos un primer modelo y lo evaluamos usando cross validate"
   ]
  },
  {
   "cell_type": "code",
   "execution_count": 28,
   "metadata": {},
   "outputs": [
    {
     "name": "stdout",
     "output_type": "stream",
     "text": [
      "El score del modelo1 es: 84.00%\n",
      "El score R2 del modelo1 utilizando cross validate es: 80.00%\n"
     ]
    }
   ],
   "source": [
    "modelo1.fit(xtrain2,ytrain)\n",
    "modelo1_score = modelo1.score(xtrain2,ytrain)\n",
    "## Utilizamos cross validate \n",
    "cv = cross_validate(modelo1, xtrain2, ytrain, cv=10, scoring=[\"r2\",\"neg_mean_squared_error\"])\n",
    "r2 = cv[\"test_r2\"]\n",
    "\n",
    "print(f\"El score del modelo1 es: {round(100*modelo1_score):0.2f}%\")\n",
    "print(f\"El score R2 del modelo1 utilizando cross validate es: {round(100*r2.mean()):0.2f}%\")"
   ]
  },
  {
   "cell_type": "markdown",
   "metadata": {},
   "source": [
    "## Usamos AdaBoostRegressor "
   ]
  },
  {
   "cell_type": "code",
   "execution_count": 33,
   "metadata": {},
   "outputs": [
    {
     "name": "stdout",
     "output_type": "stream",
     "text": [
      "El score de AdaBoosting es: 81.00%\n",
      "El score R2 de Adaboosting utilizando cross validate es: 80.00%\n"
     ]
    }
   ],
   "source": [
    "pipe_ada = Pipeline([\n",
    "    (\"select_cols\", column_selector),\n",
    "    (\"ada\", AdaBoostRegressor(Lasso(alpha=0.1, tol=0.5), n_estimators=500,loss= \"linear\", random_state=314))\n",
    "])\n",
    "pipe_ada.fit(xtrain2,ytrain)\n",
    "ada_score = pipe_ada.score(xtrain2,ytrain)\n",
    "## Utilizamos Cross Validate\n",
    "cv_ada = cross_validate(pipe_ada, xtrain2, ytrain, cv=10, scoring=[\"r2\"])\n",
    "r2_ada = cv[\"test_r2\"]\n",
    "\n",
    "print(f\"El score de AdaBoosting es: {round(100*ada_score):0.2f}%\")\n",
    "print(f\"El score R2 de Adaboosting utilizando cross validate es: {round(100*r2_ada.mean()):0.2f}%\")"
   ]
  },
  {
   "cell_type": "markdown",
   "metadata": {},
   "source": [
    "## Usamos BaggingRegressor"
   ]
  },
  {
   "cell_type": "code",
   "execution_count": 12,
   "metadata": {},
   "outputs": [
    {
     "name": "stdout",
     "output_type": "stream",
     "text": [
      "El score de BaggindRegressor es: 83.00%\n",
      "El score R2 de BaggingRegressor utilizando cross validate es: 80.00%\n"
     ]
    }
   ],
   "source": [
    "pipe_bagg = Pipeline([\n",
    "    (\"select_cols\", column_selector),\n",
    "    (\"bagg\", BaggingRegressor(Lasso(alpha=0.1, tol=0.5), n_estimators=500, random_state=314))\n",
    "])\n",
    "pipe_bagg.fit(xtrain2,ytrain)\n",
    "bagg_score = pipe_bagg.score(xtrain2,ytrain)\n",
    "cv_bagg = cross_validate(pipe_bagg, xtrain2, ytrain, cv=4, scoring=[\"r2\"])\n",
    "r2_bagg = cv[\"test_r2\"]\n",
    "\n",
    "print(f\"El score de BaggindRegressor es: {round(100*bagg_score):0.2f}%\")\n",
    "print(f\"El score R2 de BaggingRegressor utilizando cross validate es: {round(100*r2_bagg.mean()):0.2f}%\")"
   ]
  },
  {
   "cell_type": "markdown",
   "metadata": {},
   "source": [
    "## Usamos un BaggingRegressor con LinearRegression\n",
    "La idea es ver qué sucede al usar un modelo muy sencillo, junto con un Bagging"
   ]
  },
  {
   "cell_type": "code",
   "execution_count": 13,
   "metadata": {},
   "outputs": [
    {
     "name": "stdout",
     "output_type": "stream",
     "text": [
      "El score de BaggindRegressor con Lin Reg es: 69.00%\n",
      "El score R2 de BaggingR con Lin Reg utilizando cross validate es: 80.00%\n"
     ]
    }
   ],
   "source": [
    "pipe_ada_lin = Pipeline([\n",
    "    (\"select_cols\", column_selector),\n",
    "    (\"Ada_lin\", AdaBoostRegressor(LinearRegression(), n_estimators=500, random_state=314))\n",
    "])\n",
    "pipe_ada_lin.fit(xtrain2,ytrain)\n",
    "ada_lin_score = pipe_ada_lin.score(xtrain2,ytrain)\n",
    "cvadalin = cross_validate(pipe_ada_lin, xtrain, ytrain, cv=10, scoring=[\"r2\"])\n",
    "r2_al = cv[\"test_r2\"]\n",
    "\n",
    "print(f\"El score de BaggindRegressor con Lin Reg es: {round(100*ada_lin_score):0.2f}%\")\n",
    "print(f\"El score R2 de BaggingR con Lin Reg utilizando cross validate es: {round(100*r2_al.mean()):0.2f}%\")"
   ]
  },
  {
   "cell_type": "markdown",
   "metadata": {},
   "source": [
    "## Por ultimo probamos el resultado que nos arroja un VottingRegressor"
   ]
  },
  {
   "cell_type": "code",
   "execution_count": 52,
   "metadata": {},
   "outputs": [
    {
     "name": "stdout",
     "output_type": "stream",
     "text": [
      "El score de VotingRegressor con Lin Reg es: 63.00%\n",
      "El score R2 de VotingRegressor con Lin Reg utilizando cross validate es: 80.00%\n"
     ]
    }
   ],
   "source": [
    "clf = VotingRegressor([\n",
    "    (\"Lasso\", modelo1),\n",
    "  #  (\"svm\", modelo3),\n",
    "    (\"LinReg\", modelo2)\n",
    "])\n",
    "\n",
    "clf.fit(xtrain2,ytrain)\n",
    "clf_score = clf.score(xtrain2,ytrain)\n",
    "cv_clf = cross_validate(clf, xtrain, ytrain, cv=10, scoring=[\"r2\"])\n",
    "r2_clf = cv[\"test_r2\"]\n",
    "\n",
    "print(f\"El score de VotingRegressor con Lin Reg es: {round(100*clf_score):0.2f}%\")\n",
    "print(f\"El score R2 de VotingRegressor con Lin Reg utilizando cross validate es: {round(100*r2_clf.mean()):0.2f}%\")"
   ]
  },
  {
   "cell_type": "markdown",
   "metadata": {},
   "source": [
    "Personalmente me quedó con lo que nos arroja un AdaBoostRegressor que nos da un R cuadrada del 80% "
   ]
  },
  {
   "cell_type": "code",
   "execution_count": null,
   "metadata": {},
   "outputs": [],
   "source": []
  }
 ],
 "metadata": {
  "kernelspec": {
   "display_name": "Python 3",
   "language": "python",
   "name": "python3"
  },
  "language_info": {
   "codemirror_mode": {
    "name": "ipython",
    "version": 3
   },
   "file_extension": ".py",
   "mimetype": "text/x-python",
   "name": "python",
   "nbconvert_exporter": "python",
   "pygments_lexer": "ipython3",
   "version": "3.7.3"
  }
 },
 "nbformat": 4,
 "nbformat_minor": 2
}
